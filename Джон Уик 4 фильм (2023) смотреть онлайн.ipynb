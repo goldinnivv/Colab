{
  "nbformat": 4,
  "nbformat_minor": 0,
  "metadata": {
    "colab": {
      "provenance": [],
      "authorship_tag": "ABX9TyN3LiImrJXJEkOqf2/sdZFD",
      "include_colab_link": true
    },
    "kernelspec": {
      "name": "python3",
      "display_name": "Python 3"
    },
    "language_info": {
      "name": "python"
    }
  },
  "cells": [
    {
      "cell_type": "markdown",
      "metadata": {
        "id": "view-in-github",
        "colab_type": "text"
      },
      "source": [
        "<a href=\"https://colab.research.google.com/github/goldinnivv/colab/blob/main/%D0%94%D0%B6%D0%BE%D0%BD%20%D0%A3%D0%B8%D0%BA%204%20%D1%84%D0%B8%D0%BB%D1%8C%D0%BC%20(2023)%20%D1%81%D0%BC%D0%BE%D1%82%D1%80%D0%B5%D1%82%D1%8C%20%D0%BE%D0%BD%D0%BB%D0%B0%D0%B9%D0%BD.ipynb\" target=\"_parent\"><img src=\"https://colab.research.google.com/assets/colab-badge.svg\" alt=\"Open In Colab\"/></a>"
      ]
    },
    {
      "cell_type": "markdown",
      "source": [
        "Джон Уик 4 фильм (2023) смотреть онлайн \n",
        "<p><a href=\"https://mjeev.7ts5.shop/f/7X70lE1t4k9\" target=\"_blank\" rel=\"noopener noreferrer\"><img src=\"https://i.imgur.com/2skYgg1.gif?top-gun-maverick\" alt=\"Ver ONE PIECE FILM RED Online\" /></a></p>\n",
        "<p>&nbsp;</p>\n",
        "\n"
      ],
      "metadata": {
        "id": "4l7qDNg0V_hS"
      }
    }
  ]
}