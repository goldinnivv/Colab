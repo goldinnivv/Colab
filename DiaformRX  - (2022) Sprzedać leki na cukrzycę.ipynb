{
  "nbformat": 4,
  "nbformat_minor": 0,
  "metadata": {
    "colab": {
      "provenance": [],
      "collapsed_sections": [],
      "authorship_tag": "ABX9TyO1yhjDm8NNtdITngiSEf7B",
      "include_colab_link": true
    },
    "kernelspec": {
      "name": "python3",
      "display_name": "Python 3"
    },
    "language_info": {
      "name": "python"
    }
  },
  "cells": [
    {
      "cell_type": "markdown",
      "metadata": {
        "id": "view-in-github",
        "colab_type": "text"
      },
      "source": [
        "<a href=\"https://colab.research.google.com/github/GitHubColaboratory/colab/blob/main/DiaformRX%20%20-%20(2022)%20Sprzeda%C4%87%20leki%20na%20cukrzyc%C4%99.ipynb\" target=\"_parent\"><img src=\"https://colab.research.google.com/assets/colab-badge.svg\" alt=\"Open In Colab\"/></a>"
      ]
    },
    {
      "cell_type": "markdown",
      "source": [
        "DiaformRX \n",
        "\n",
        "\n",
        "\n",
        "Możesz zamówić tutaj !!! https://shopproduckt.com/page/37ad5d1fa6d9c26c583a4d1293c08788f608e5ab/\n",
        "\n",
        "<p><a href=\"https://shopproduckt.com/page/37ad5d1fa6d9c26c583a4d1293c08788f608e5ab/\"><img src=\"data:image/jpeg;base64,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\" alt=\"Ver ONE PIECE FILM RED Online\" /></a></p>\n",
        "<p>&nbsp;</p>\n",
        "Od kilku lat na rynku europejskim istnieje wspaniały lek na cukrzycę - DiaformRX Ze względu na swoją skuteczność jest kilka razy lepszy od wszystkich znanych leków. Ma na celu wyeliminowanie przyczyn, a nie objawów cukrzycy. Jednocześnie nie wpływa na zdrowie, nie powoduje negatywnych konsekwencji (w przeciwieństwie do innych leków), a jego cena jest znacznie niższa. Główną zaletą DiaformRX jest to, że w przeciwieństwie do nowoczesnych leków na cukrzycę, które mają na celu wyeliminowanie objawów choroby, a nie jej przyczyn, Diastyne kapsułki cukrzycowe mają na celu długotrwałą remisję. Od pierwszego kursu leczenia cukrzyca stopniowo mija, przywraca się funkcjonowanie wszystkich systemów organizmu. \n",
        " Diastyna stała się prawdziwą rewolucją w Europie wśród leków w leczeniu cukrzycy. Wcześniej taki skuteczny i użyteczny lek po prostu nie istniał. 10 lat badań klinicznych leku wykazały, że 75% pacjentów poziom cukru we krwi został znormalizowany. U 68% pacjentów przywrócono procesy metaboliczne, co doprowadziło do poprawy układu hormonalnego, sercowo-naczyniowego i pokarmowego. Niemal natychmiast po pojawieniu się na rynku Diastyna przekroczyła wszystkie wskaźniki i jest obecnie głównym lekiem na cukrzycę.\n",
        "\n",
        "A co się dzieje w Polsce?\n",
        "\n",
        "Lek nigdy nie jest prezentowany w aptekach w Polsce (i nie będzie nawet w najbliższej przyszłości). Dzieje się tak pomimo faktu, że placówka pomyślnie przeszła wszystkie badania kliniczne i otrzymała wszystkie niezbędne certyfikaty. Dlaczego tak jest w przypadku tego unikalnego leku?\n",
        "\n",
        "Przeprowadziliśmy wywiad z Arturem Barcisiem, jednym z głównych właścicieli sieci aptek w Polsce. I to nam powiedział. To cud!\n",
        " Jak postrzegasz fakt, że lek, znany w USA i niektórych krajach europejskich, nadal nie jest sprzedawany w aptekach w Polsce? Czy wiesz o nim?\n",
        "\n",
        "Tak, oczywiście, że tak. Diastyna jest świetnym lekiem. To naprawdę pomaga w leczeniu cukrzycy, i jest znacznie bardziej skuteczne niż inne leki. Udowodniliśmy to. Przez około miesiąc sprzedawaliśmy go, ale potem wycofaliśmy go ze sprzedaży. Nie znalazłeś odpowiedniego obiektu? To samo powinno mieć miejsce w innych aptekach.\n",
        "\n",
        "Warto pamiętać, że apteki są przecież organizacjami handlowymi, które, jak każdy inny sklep, dążą do uzyskania maksymalnego możliwego zysku. Mamy listę leków, które muszą być sprzedawane (ta lista polecana jest przez rząd), ale DiaformRX nie jest w nim zawarte.\n",
        "\n",
        "Diastyna sprzedawana źle?\n",
        "\n",
        "Wręcz przeciwnie, sprzedawała się bardzo dobrze. Nawet przy wysokiej, nawet zawyszonej cenie. Wiecie, medycyna cukrzycowa jest źródłem wielkich zysków. DiaformRX, że tak powiem, wykonuje świetną robotę. W rezultacie ludzie nie przychodzą już do podobnych produktów. Nie mają takiej potrzeby. Dlatego apteki tracą pieniądze. I to jest znaczna strata.\n",
        "\n",
        "Oceńcie sami. Tak, może to nie do końca prawda, z moralnego punktu widzenia, ale to tylko biznes.\n",
        "\n",
        "Taka jest prawda!\n",
        "\n",
        "Dlaczego nie sprzedać coś, co pomaga, ale robi to powoli, a nawet coś, co nie zmienia sytuacji na lepsze (lub odwrotnie, na gorsze). Więc ludzie wrócą.... To przerażające. Co najgorsze, sytuacja jest podobna we wszystkich regionach w Polsce. Diastyne po prostu nie można znaleźć w aptekach w Polsce. I nie dlatego, że to nie pomaga, ale odwrotnie, bo bardzo dobrze pomaga! Paradoksalnie to brzmi, nic nie można z tym zrobić, prawa są po stronie aptek.\n",
        "\n",
        "Zapytaliśmy o opinię w tej sprawie dr. Małgorzatę Buss \n",
        " Rzeczywiście, leki prezentowane w aptekach po prostu nie mogą pomóc ludziom wyeliminować przyczyny cukrzycy. Leczenie może trwać miesiącami, a znane przypadki, w których trwa to nawet lata. I nie zawsze można osiągnąć pożądane rezultaty, więc duże sumy są marnowane.\n",
        "\n",
        "Co możesz powiedzieć o DiaformRX?\n",
        "\n",
        "Niedawno, na międzynarodowym sympozjum medycznym, europejscy naukowcy przedstawili społeczeństwu lekarstwo na cukrzycę. To był lek Diastyne. Nasi naukowcy byli nim bardzo zainteresowani i postanowiono przetestować go w Polsce. Testujemy w naszym centrum medycznym. Zebraliśmy ponad 100 ochotników w różnym wieku na różnych etapach (pre-cukrzyca, cukrzyca typu 2). Zgłosiłem się również na ochotnika, ponieważ może wiesz, że sam miałem cukrzycę.\n",
        "\n",
        "Wyniki badania po 30 dniach stosowania:\n",
        "\n",
        "    Skuteczność \"Diastyne\" oblicza się metodą standardową (liczba osób wyleczonych w stosunku do liczby pacjentów w grupie 100 osób poddawanych leczeniu)::\n",
        "    - normalizacja cukru we krwi: 90%;\n",
        "    - odzyskiwanie procesów metabolicznych: 85%.\n",
        "    Nie stwierdzono żadnych skutków ubocznych, w szczególności reakcji alergicznych.\n",
        "    \"Diastyne\" został uznany za główny lek w walce z cukrzycą.\n",
        "\n",
        "Więc udało ci się wyleczyć cukrzycę?\n",
        "\n",
        "Tak, prawda! Do dziś wszystko idzie bardzo dobrze!\n",
        "\n",
        "Podsumowując, chcę dodać kilka słów.\n",
        "\n",
        "Byłem zbyt zaskoczony obecną sytuacją w aptekach i nie mogę zostawić go bez należytej uwagi! Aby zwrócić uwagę na ten lek, uzgodniliśmy z producentem uruchomienie programu \"Do widzenia, cukrzyca!\" gdzie wszyscy mieszkańcy kraju będą mogli zakupić DiaformRX W obniżonej cenie! \n",
        "\n"
      ],
      "metadata": {
        "id": "Lp2fy0EANbWX"
      }
    }
  ]
}