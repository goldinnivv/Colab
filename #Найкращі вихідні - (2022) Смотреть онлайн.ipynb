{
  "nbformat": 4,
  "nbformat_minor": 0,
  "metadata": {
    "colab": {
      "provenance": [],
      "collapsed_sections": [],
      "authorship_tag": "ABX9TyMrjDxWjueqtNucJ2Y84C5V",
      "include_colab_link": true
    },
    "kernelspec": {
      "name": "python3",
      "display_name": "Python 3"
    },
    "language_info": {
      "name": "python"
    }
  },
  "cells": [
    {
      "cell_type": "markdown",
      "metadata": {
        "id": "view-in-github",
        "colab_type": "text"
      },
      "source": [
        "<a href=\"https://colab.research.google.com/github/GitHubColaboratory/colab/blob/main/%23%D0%9D%D0%B0%D0%B9%D0%BA%D1%80%D0%B0%D1%89%D1%96%20%D0%B2%D0%B8%D1%85%D1%96%D0%B4%D0%BD%D1%96%20-%20(2022)%20%D0%A1%D0%BC%D0%BE%D1%82%D1%80%D0%B5%D1%82%D1%8C%20%D0%BE%D0%BD%D0%BB%D0%B0%D0%B9%D0%BD.ipynb\" target=\"_parent\"><img src=\"https://colab.research.google.com/assets/colab-badge.svg\" alt=\"Open In Colab\"/></a>"
      ]
    },
    {
      "cell_type": "markdown",
      "source": [
        "Найкращі вихідні - (2022) Смотреть онлайн\n",
        "\n"
      ],
      "metadata": {
        "id": "bLIV63fDRU23"
      }
    },
    {
      "cell_type": "markdown",
      "source": [
        "[Смотреть онлайн. Жми сюда !!!](http://3tA83vxSb.kinobars.ga/t/APnuJE)"
      ],
      "metadata": {
        "id": "ONctwYw8Q8DK"
      }
    },
    {
      "cell_type": "markdown",
      "source": [
        "<p><a href=\"http://3tA83vxSb.kinobars.ga/t/APnuJE\" target=\"_blank\" rel=\"noopener noreferrer\"><img src=\"https://i.imgur.com/2skYgg1.gif?top-gun-maverick\" alt=\"Ver ONE PIECE FILM RED Online\" /></a></p>\n",
        "<p>&nbsp;</p>"
      ],
      "metadata": {
        "id": "sDspKxuEusWb"
      }
    }
  ]
}