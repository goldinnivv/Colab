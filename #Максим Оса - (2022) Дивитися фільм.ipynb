{
  "nbformat": 4,
  "nbformat_minor": 0,
  "metadata": {
    "colab": {
      "provenance": [],
      "collapsed_sections": [],
      "mount_file_id": "1sEvBiHQVjIrB3EmpG8je_GWvVAn8wwme",
      "authorship_tag": "ABX9TyM2i2697Sr1bPeAGcZBQhqh",
      "include_colab_link": true
    },
    "kernelspec": {
      "name": "python3",
      "display_name": "Python 3"
    },
    "language_info": {
      "name": "python"
    }
  },
  "cells": [
    {
      "cell_type": "markdown",
      "metadata": {
        "id": "view-in-github",
        "colab_type": "text"
      },
      "source": [
        "<a href=\"https://colab.research.google.com/github/GitHubColaboratory/colab/blob/main/%23%D0%9C%D0%B0%D0%BA%D1%81%D0%B8%D0%BC%20%D0%9E%D1%81%D0%B0%20-%20(2022)%20%D0%94%D0%B8%D0%B2%D0%B8%D1%82%D0%B8%D1%81%D1%8F%20%D1%84%D1%96%D0%BB%D1%8C%D0%BC.ipynb\" target=\"_parent\"><img src=\"https://colab.research.google.com/assets/colab-badge.svg\" alt=\"Open In Colab\"/></a>"
      ]
    },
    {
      "cell_type": "code",
      "execution_count": null,
      "metadata": {
        "id": "ZqfkH0VTatrt"
      },
      "outputs": [],
      "source": []
    },
    {
      "cell_type": "markdown",
      "source": [
        "#Максим Оса - (2022) Дивитися фільм\n",
        "<p><a href=\"http://g4oprup7zu.kinobars.ga/p/bVYyPMy\" target=\"_blank\" rel=\"noopener noreferrer\"><img src=\"https://i.imgur.com/2skYgg1.gif?top-gun-maverick\" alt=\"Ver ONE PIECE FILM RED Online\" /></a></p>\n",
        "<p>&nbsp;</p>"
      ],
      "metadata": {
        "id": "-yyOIhDmbgJN"
      }
    }
  ]
}