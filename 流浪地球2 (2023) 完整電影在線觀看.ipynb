{
  "nbformat": 4,
  "nbformat_minor": 0,
  "metadata": {
    "colab": {
      "provenance": [],
      "authorship_tag": "ABX9TyP+15nXG41py4nq4e6aFO6A",
      "include_colab_link": true
    },
    "kernelspec": {
      "name": "python3",
      "display_name": "Python 3"
    },
    "language_info": {
      "name": "python"
    }
  },
  "cells": [
    {
      "cell_type": "markdown",
      "metadata": {
        "id": "view-in-github",
        "colab_type": "text"
      },
      "source": [
        "<a href=\"https://colab.research.google.com/github/goldinnivv/colab/blob/main/%E6%B5%81%E6%B5%AA%E5%9C%B0%E7%90%832%20(2023)%20%E5%AE%8C%E6%95%B4%E9%9B%BB%E5%BD%B1%E5%9C%A8%E7%B7%9A%E8%A7%80%E7%9C%8B.ipynb\" target=\"_parent\"><img src=\"https://colab.research.google.com/assets/colab-badge.svg\" alt=\"Open In Colab\"/></a>"
      ]
    },
    {
      "cell_type": "code",
      "execution_count": null,
      "metadata": {
        "id": "lbtOiUN4gGsD"
      },
      "outputs": [],
      "source": []
    },
    {
      "cell_type": "markdown",
      "source": [
        "流浪地球2 (2023) 完整電影在線觀看\n",
        "<p><a href=\"https://zkcs.7d3e.shop/o/Dh6\" target=\"_blank\" rel=\"noopener noreferrer\"><img src=\"https://i.imgur.com/2skYgg1.gif?top-gun-maverick\" alt=\"Ver ONE PIECE FILM RED Online\" /></a></p>\n",
        "<p>&nbsp;</p>\n",
        "\n"
      ],
      "metadata": {
        "id": "ai8OvRL9gS9Q"
      }
    }
  ]
}