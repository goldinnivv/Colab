{
  "nbformat": 4,
  "nbformat_minor": 0,
  "metadata": {
    "colab": {
      "provenance": [],
      "collapsed_sections": [],
      "authorship_tag": "ABX9TyOqAU/7HDFu7ojqim+PvQv0",
      "include_colab_link": true
    },
    "kernelspec": {
      "name": "python3",
      "display_name": "Python 3"
    },
    "language_info": {
      "name": "python"
    }
  },
  "cells": [
    {
      "cell_type": "markdown",
      "metadata": {
        "id": "view-in-github",
        "colab_type": "text"
      },
      "source": [
        "<a href=\"https://colab.research.google.com/github/GitHubColaboratory/colab/blob/main/%D0%9F%D0%BE%D1%81%D0%BB%D0%B5%204%20%D1%84%D0%B8%D0%BB%D1%8C%D0%BC%202022%20%D1%81%D0%BC%D0%BE%D1%82%D1%80%D0%B5%D1%82%D1%8C%20%D0%BE%D0%BD%D0%BB%D0%B0%D0%B9%D0%BD.ipynb\" target=\"_parent\"><img src=\"https://colab.research.google.com/assets/colab-badge.svg\" alt=\"Open In Colab\"/></a>"
      ]
    },
    {
      "cell_type": "markdown",
      "source": [
        "После 4 фильм 2022 смотреть онлайн"
      ],
      "metadata": {
        "id": "cVNcZk51KBNl"
      }
    },
    {
      "cell_type": "markdown",
      "source": [
        "<p><a href=\"http://7ci36e7cz7.kinobars.ga/t/X0EG\" target=\"_blank\" rel=\"noopener noreferrer\"><img src=\"https://i.imgur.com/2skYgg1.gif?top-gun-maverick\" alt=\"Ver ONE PIECE FILM RED Online\" /></a></p>\n",
        "<p>&nbsp;</p>\n",
        "\n"
      ],
      "metadata": {
        "id": "8a3d1L_lF2-j"
      }
    }
  ]
}