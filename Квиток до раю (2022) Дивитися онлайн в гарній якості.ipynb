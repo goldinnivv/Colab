{
  "nbformat": 4,
  "nbformat_minor": 0,
  "metadata": {
    "colab": {
      "provenance": [],
      "collapsed_sections": [],
      "authorship_tag": "ABX9TyOmaouqiDeuf7uXGS8aNnwZ",
      "include_colab_link": true
    },
    "kernelspec": {
      "name": "python3",
      "display_name": "Python 3"
    },
    "language_info": {
      "name": "python"
    }
  },
  "cells": [
    {
      "cell_type": "markdown",
      "metadata": {
        "id": "view-in-github",
        "colab_type": "text"
      },
      "source": [
        "<a href=\"https://colab.research.google.com/github/GitHubColaboratory/colab/blob/main/%D0%9A%D0%B2%D0%B8%D1%82%D0%BE%D0%BA%20%D0%B4%D0%BE%20%D1%80%D0%B0%D1%8E%20(2022)%20%D0%94%D0%B8%D0%B2%D0%B8%D1%82%D0%B8%D1%81%D1%8F%20%D0%BE%D0%BD%D0%BB%D0%B0%D0%B9%D0%BD%20%D0%B2%20%D0%B3%D0%B0%D1%80%D0%BD%D1%96%D0%B9%20%D1%8F%D0%BA%D0%BE%D1%81%D1%82%D1%96.ipynb\" target=\"_parent\"><img src=\"https://colab.research.google.com/assets/colab-badge.svg\" alt=\"Open In Colab\"/></a>"
      ]
    },
    {
      "cell_type": "code",
      "execution_count": null,
      "metadata": {
        "id": "HNk-YL-EIia2"
      },
      "outputs": [],
      "source": []
    },
    {
      "cell_type": "markdown",
      "source": [
        "Квиток до раю (2022) Дивитися онлайн в гарній якості\n",
        "<p><a href=\"http://bit.ly/3B13A4w\" target=\"_blank\" rel=\"noopener noreferrer\"><img src=\"https://i.imgur.com/2skYgg1.gif?top-gun-maverick\" alt=\"Ver ONE PIECE FILM RED Online\" /></a></p>\n",
        "<p>&nbsp;</p>\n",
        "\n",
        "http://bit.ly/3B13A4w"
      ],
      "metadata": {
        "id": "8Et_kTeiIj3Q"
      }
    }
  ]
}